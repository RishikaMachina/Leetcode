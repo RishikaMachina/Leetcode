{
 "cells": [
  {
   "cell_type": "code",
   "execution_count": 2,
   "metadata": {},
   "outputs": [],
   "source": [
    "def twoSum(nums, target):\n",
    "    a=[]\n",
    "    for i in range(0,len(nums)-1):\n",
    "        for j in range(i+1,len(nums)):\n",
    "            if(nums[j] == target - nums[i]):\n",
    "                a.append(i)\n",
    "                a.append(j)\n",
    "            else:\n",
    "                continue\n",
    "    return a"
   ]
  },
  {
   "cell_type": "code",
   "execution_count": 5,
   "metadata": {},
   "outputs": [
    {
     "data": {
      "text/plain": [
       "([], [0, 2], [0, 4, 1, 3, 1, 10])"
      ]
     },
     "execution_count": 5,
     "metadata": {},
     "output_type": "execute_result"
    }
   ],
   "source": [
    "twoSum([1,2,3,4,5,6,7,8,9,21,4,656],34), twoSum([1,2,3,4,5,6,7,8,9,21,4,656],4), twoSum([1,2,3,4,5,6,7,8,9,21,4,656],6)"
   ]
  },
  {
   "cell_type": "code",
   "execution_count": null,
   "metadata": {},
   "outputs": [],
   "source": []
  }
 ],
 "metadata": {
  "kernelspec": {
   "display_name": "Python 3",
   "language": "python",
   "name": "python3"
  },
  "language_info": {
   "codemirror_mode": {
    "name": "ipython",
    "version": 3
   },
   "file_extension": ".py",
   "mimetype": "text/x-python",
   "name": "python",
   "nbconvert_exporter": "python",
   "pygments_lexer": "ipython3",
   "version": "3.6.5"
  }
 },
 "nbformat": 4,
 "nbformat_minor": 2
}
